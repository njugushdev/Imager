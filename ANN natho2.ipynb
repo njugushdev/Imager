{
 "cells": [
  {
   "cell_type": "code",
   "execution_count": 1,
   "id": "c8769a67",
   "metadata": {},
   "outputs": [],
   "source": [
    "import numpy as np\n",
    "import pandas as pd\n",
    "%matplotlib inline\n",
    "import matplotlib as mpl\n",
    "import matplotlib.pyplot as plt"
   ]
  },
  {
   "cell_type": "code",
   "execution_count": 2,
   "id": "18f1d716",
   "metadata": {},
   "outputs": [],
   "source": [
    "import tensorflow as tf\n",
    "from tensorflow import keras"
   ]
  },
  {
   "cell_type": "code",
   "execution_count": 3,
   "id": "e3196a96",
   "metadata": {},
   "outputs": [],
   "source": [
    "from sklearn.datasets import fetch_california_housing"
   ]
  },
  {
   "cell_type": "code",
   "execution_count": 4,
   "id": "8d1f9ed0",
   "metadata": {},
   "outputs": [],
   "source": [
    "housing = fetch_california_housing()"
   ]
  },
  {
   "cell_type": "markdown",
   "id": "c3210c0d",
   "metadata": {},
   "source": [
    "# Dataset characteristics"
   ]
  },
  {
   "cell_type": "markdown",
   "id": "89627f42",
   "metadata": {},
   "source": [
    "### Number of instances"
   ]
  },
  {
   "cell_type": "markdown",
   "id": "71e11676",
   "metadata": {},
   "source": [
    "20640"
   ]
  },
  {
   "cell_type": "markdown",
   "id": "a16e16cc",
   "metadata": {},
   "source": [
    "### Attribute information"
   ]
  },
  {
   "cell_type": "markdown",
   "id": "2bd01f92",
   "metadata": {},
   "source": [
    "MedInc HouseAge AveRooms AveBdrms population block population house occupancy latitde longitude"
   ]
  },
  {
   "cell_type": "markdown",
   "id": "b4c3e853",
   "metadata": {},
   "source": [
    "### Target"
   ]
  },
  {
   "cell_type": "markdown",
   "id": "81b91a4a",
   "metadata": {},
   "source": [
    "The target variable is the median house value in units of 100 000 for california districts"
   ]
  },
  {
   "cell_type": "markdown",
   "id": "500699c9",
   "metadata": {},
   "source": [
    "# Documentation"
   ]
  },
  {
   "cell_type": "markdown",
   "id": "3976f445",
   "metadata": {},
   "source": [
    "https://scikit-learn.org/stable/modules/generated/sklearn.datasets.fetch_california_housing.html"
   ]
  },
  {
   "cell_type": "code",
   "execution_count": 5,
   "id": "0efdf3e5",
   "metadata": {},
   "outputs": [
    {
     "name": "stdout",
     "output_type": "stream",
     "text": [
      "['MedInc', 'HouseAge', 'AveRooms', 'AveBedrms', 'Population', 'AveOccup', 'Latitude', 'Longitude']\n"
     ]
    }
   ],
   "source": [
    "print(housing.feature_names)"
   ]
  },
  {
   "cell_type": "code",
   "execution_count": 6,
   "id": "392be39d",
   "metadata": {},
   "outputs": [],
   "source": [
    "from sklearn.model_selection import train_test_split\n",
    "x_train_full, x_test, y_train_full, y_test = train_test_split(housing.data, housing.target, random_state = 42)\n",
    "x_train, x_valid, y_train, y_valid = train_test_split(x_train_full, y_train_full, random_state = 42)"
   ]
  },
  {
   "cell_type": "code",
   "execution_count": 7,
   "id": "f2cdacef",
   "metadata": {},
   "outputs": [],
   "source": [
    "from sklearn.preprocessing import StandardScaler\n",
    "scaler = StandardScaler()\n",
    "x_train = scaler.fit_transform(x_train)\n",
    "x_valid = scaler.fit_transform(x_valid)\n",
    "x_test = scaler.fit_transform(x_test)"
   ]
  },
  {
   "cell_type": "code",
   "execution_count": 8,
   "id": "d100435f",
   "metadata": {},
   "outputs": [],
   "source": [
    "np.random.seed(42)\n",
    "tf.random.set_seed(42)"
   ]
  },
  {
   "cell_type": "code",
   "execution_count": 9,
   "id": "dc8d4dea",
   "metadata": {},
   "outputs": [
    {
     "data": {
      "text/plain": [
       "(11610, 8)"
      ]
     },
     "execution_count": 9,
     "metadata": {},
     "output_type": "execute_result"
    }
   ],
   "source": [
    "x_train.shape"
   ]
  },
  {
   "cell_type": "code",
   "execution_count": 10,
   "id": "0e61f1bc",
   "metadata": {},
   "outputs": [],
   "source": [
    "model = keras.models.Sequential([\n",
    "    keras.layers.Dense(30, activation = \"relu\", input_shape = [8]),\n",
    "    keras.layers.Dense(30, activation = \"relu\"),\n",
    "    keras.layers.Dense(1)\n",
    "])\n",
    "#keras.Layers.Dense(30, activation = \"relu\"), input_shape = x_train.shape(1:)"
   ]
  },
  {
   "cell_type": "code",
   "execution_count": 11,
   "id": "923d7772",
   "metadata": {},
   "outputs": [
    {
     "name": "stdout",
     "output_type": "stream",
     "text": [
      "Model: \"sequential\"\n",
      "_________________________________________________________________\n",
      "Layer (type)                 Output Shape              Param #   \n",
      "=================================================================\n",
      "dense (Dense)                (None, 30)                270       \n",
      "_________________________________________________________________\n",
      "dense_1 (Dense)              (None, 30)                930       \n",
      "_________________________________________________________________\n",
      "dense_2 (Dense)              (None, 1)                 31        \n",
      "=================================================================\n",
      "Total params: 1,231\n",
      "Trainable params: 1,231\n",
      "Non-trainable params: 0\n",
      "_________________________________________________________________\n"
     ]
    }
   ],
   "source": [
    "model.summary()"
   ]
  },
  {
   "cell_type": "code",
   "execution_count": 12,
   "id": "7a4ad72e",
   "metadata": {},
   "outputs": [],
   "source": [
    "model.compile(loss = \"mean_squared_error\",\n",
    "             optimizer = keras.optimizers.SGD(lr = 1e-3),\n",
    "             metrics = ['mae']\n",
    "             )"
   ]
  },
  {
   "cell_type": "code",
   "execution_count": 13,
   "id": "9e97bd6e",
   "metadata": {},
   "outputs": [
    {
     "name": "stdout",
     "output_type": "stream",
     "text": [
      "Epoch 1/20\n",
      "363/363 [==============================] - 1s 2ms/step - loss: 1.8866 - mae: 0.9900 - val_loss: 0.7414 - val_mae: 0.6560\n",
      "Epoch 2/20\n",
      "363/363 [==============================] - 0s 1ms/step - loss: 0.6577 - mae: 0.6042 - val_loss: 0.6221 - val_mae: 0.5870\n",
      "Epoch 3/20\n",
      "363/363 [==============================] - 0s 1ms/step - loss: 0.5934 - mae: 0.5618 - val_loss: 0.5779 - val_mae: 0.5550\n",
      "Epoch 4/20\n",
      "363/363 [==============================] - 0s 1ms/step - loss: 0.5557 - mae: 0.5398 - val_loss: 0.5572 - val_mae: 0.5496\n",
      "Epoch 5/20\n",
      "363/363 [==============================] - 0s 1ms/step - loss: 0.5272 - mae: 0.5237 - val_loss: 0.5305 - val_mae: 0.5319\n",
      "Epoch 6/20\n",
      "363/363 [==============================] - 1s 1ms/step - loss: 0.5033 - mae: 0.5113 - val_loss: 0.5113 - val_mae: 0.5224\n",
      "Epoch 7/20\n",
      "363/363 [==============================] - 0s 1ms/step - loss: 0.4854 - mae: 0.5010 - val_loss: 0.4974 - val_mae: 0.5151\n",
      "Epoch 8/20\n",
      "363/363 [==============================] - 0s 1ms/step - loss: 0.4709 - mae: 0.4924 - val_loss: 0.4903 - val_mae: 0.5109\n",
      "Epoch 9/20\n",
      "363/363 [==============================] - 0s 1ms/step - loss: 0.4578 - mae: 0.4857 - val_loss: 0.4773 - val_mae: 0.5029\n",
      "Epoch 10/20\n",
      "363/363 [==============================] - 0s 1ms/step - loss: 0.4474 - mae: 0.4797 - val_loss: 0.4696 - val_mae: 0.4988\n",
      "Epoch 11/20\n",
      "363/363 [==============================] - 1s 1ms/step - loss: 0.4393 - mae: 0.4744 - val_loss: 0.4704 - val_mae: 0.5039\n",
      "Epoch 12/20\n",
      "363/363 [==============================] - 0s 1ms/step - loss: 0.4318 - mae: 0.4703 - val_loss: 0.4590 - val_mae: 0.4942\n",
      "Epoch 13/20\n",
      "363/363 [==============================] - 1s 1ms/step - loss: 0.4261 - mae: 0.4674 - val_loss: 0.4587 - val_mae: 0.4963\n",
      "Epoch 14/20\n",
      "363/363 [==============================] - 0s 1ms/step - loss: 0.4202 - mae: 0.4636 - val_loss: 0.4550 - val_mae: 0.4951\n",
      "Epoch 15/20\n",
      "363/363 [==============================] - 0s 1ms/step - loss: 0.4155 - mae: 0.4613 - val_loss: 0.4507 - val_mae: 0.4904\n",
      "Epoch 16/20\n",
      "363/363 [==============================] - 0s 1ms/step - loss: 0.4112 - mae: 0.4591 - val_loss: 0.4458 - val_mae: 0.4876\n",
      "Epoch 17/20\n",
      "363/363 [==============================] - 0s 1ms/step - loss: 0.4077 - mae: 0.4569 - val_loss: 0.4431 - val_mae: 0.4835\n",
      "Epoch 18/20\n",
      "363/363 [==============================] - 0s 1ms/step - loss: 0.4040 - mae: 0.4545 - val_loss: 0.4418 - val_mae: 0.4822\n",
      "Epoch 19/20\n",
      "363/363 [==============================] - 0s 1ms/step - loss: 0.4004 - mae: 0.4521 - val_loss: 0.4388 - val_mae: 0.4807\n",
      "Epoch 20/20\n",
      "363/363 [==============================] - 0s 1ms/step - loss: 0.3980 - mae: 0.4508 - val_loss: 0.4383 - val_mae: 0.4820\n"
     ]
    }
   ],
   "source": [
    "model_history = model.fit(x_train, y_train, epochs = 20, validation_data = (x_valid, y_valid))"
   ]
  },
  {
   "cell_type": "code",
   "execution_count": 14,
   "id": "6ff080af",
   "metadata": {},
   "outputs": [
    {
     "name": "stdout",
     "output_type": "stream",
     "text": [
      "162/162 [==============================] - 0s 833us/step - loss: 0.3993 - mae: 0.4595\n"
     ]
    }
   ],
   "source": [
    "mae_test = model.evaluate(x_test, y_test)"
   ]
  },
  {
   "cell_type": "code",
   "execution_count": 15,
   "id": "46ffc951",
   "metadata": {},
   "outputs": [
    {
     "data": {
      "text/plain": [
       "{'loss': [1.8866394758224487,\n",
       "  0.6577127575874329,\n",
       "  0.5934185981750488,\n",
       "  0.5557191967964172,\n",
       "  0.5271905660629272,\n",
       "  0.5032975673675537,\n",
       "  0.48535558581352234,\n",
       "  0.47091811895370483,\n",
       "  0.45779937505722046,\n",
       "  0.4474470019340515,\n",
       "  0.4393136501312256,\n",
       "  0.43176087737083435,\n",
       "  0.4260515868663788,\n",
       "  0.42017653584480286,\n",
       "  0.41549986600875854,\n",
       "  0.4111650586128235,\n",
       "  0.4077068567276001,\n",
       "  0.40395283699035645,\n",
       "  0.4004494547843933,\n",
       "  0.3979603350162506],\n",
       " 'mae': [0.9900256991386414,\n",
       "  0.6041510105133057,\n",
       "  0.5618006587028503,\n",
       "  0.5398454070091248,\n",
       "  0.5237293839454651,\n",
       "  0.5112562775611877,\n",
       "  0.5010154247283936,\n",
       "  0.492448091506958,\n",
       "  0.4857262074947357,\n",
       "  0.4797375202178955,\n",
       "  0.4744163453578949,\n",
       "  0.4703480303287506,\n",
       "  0.46740880608558655,\n",
       "  0.4636021554470062,\n",
       "  0.461266428232193,\n",
       "  0.4591343402862549,\n",
       "  0.4568699896335602,\n",
       "  0.4545365273952484,\n",
       "  0.4521064758300781,\n",
       "  0.45083147287368774],\n",
       " 'val_loss': [0.7413728833198547,\n",
       "  0.6220595240592957,\n",
       "  0.5779173374176025,\n",
       "  0.5571869611740112,\n",
       "  0.5305212736129761,\n",
       "  0.5112658739089966,\n",
       "  0.49737149477005005,\n",
       "  0.4903269410133362,\n",
       "  0.4772711396217346,\n",
       "  0.4695732295513153,\n",
       "  0.4703767001628876,\n",
       "  0.45901522040367126,\n",
       "  0.45866554975509644,\n",
       "  0.45500877499580383,\n",
       "  0.45073699951171875,\n",
       "  0.44580546021461487,\n",
       "  0.44312483072280884,\n",
       "  0.44182005524635315,\n",
       "  0.4387696385383606,\n",
       "  0.43828627467155457],\n",
       " 'val_mae': [0.6560152769088745,\n",
       "  0.5870209336280823,\n",
       "  0.5550429821014404,\n",
       "  0.5495699644088745,\n",
       "  0.5318752527236938,\n",
       "  0.5223987698554993,\n",
       "  0.5151413083076477,\n",
       "  0.5109214186668396,\n",
       "  0.502907931804657,\n",
       "  0.4988013505935669,\n",
       "  0.503919243812561,\n",
       "  0.4942389726638794,\n",
       "  0.4962692856788635,\n",
       "  0.4951176047325134,\n",
       "  0.49042701721191406,\n",
       "  0.48755040764808655,\n",
       "  0.4834802448749542,\n",
       "  0.4822427034378052,\n",
       "  0.4806600511074066,\n",
       "  0.48197245597839355]}"
      ]
     },
     "execution_count": 15,
     "metadata": {},
     "output_type": "execute_result"
    }
   ],
   "source": [
    "model_history.history"
   ]
  },
  {
   "cell_type": "code",
   "execution_count": 16,
   "id": "538502af",
   "metadata": {},
   "outputs": [
    {
     "data": {
      "image/png": "[encoded data removed]",
      "text/plain": [
       "<Figure size 576x360 with 1 Axes>"
      ]
     },
     "metadata": {
      "needs_background": "light"
     },
     "output_type": "display_data"
    }
   ],
   "source": [
    "pd.DataFrame(model_history.history).plot(figsize = (8, 5))\n",
    "plt.grid(True)\n",
    "plt.gca().set_ylim(0, 1)\n",
    "plt.show()"
   ]
  },
  {
   "cell_type": "code",
   "execution_count": 17,
   "id": "3fb7372d",
   "metadata": {},
   "outputs": [],
   "source": [
    "del model"
   ]
  },
  {
   "cell_type": "code",
   "execution_count": 18,
   "id": "1f7c5483",
   "metadata": {},
   "outputs": [],
   "source": [
    "keras.backend.clear_session()"
   ]
  },
  {
   "cell_type": "markdown",
   "id": "2441d1c2",
   "metadata": {},
   "source": [
    "# Functional API"
   ]
  },
  {
   "cell_type": "markdown",
   "id": "50d05a07",
   "metadata": {},
   "source": [
    "Not all neural networks are simply sequential, some may have complex topologies. some may have multiple inputs and/ or multiple outputs. for example, a wide and deep neural network connects all or part of the input to the output."
   ]
  },
  {
   "cell_type": "code",
   "execution_count": 19,
   "id": "97ea34a4",
   "metadata": {},
   "outputs": [],
   "source": [
    "input_ = keras.layers.Input(shape = x_train.shape[1:])\n",
    "hidden1 = keras.layers.Dense(30, activation = \"relu\")(input_)\n",
    "hidden2 = keras.layers.Dense(30, activation = \"relu\")(hidden1)\n",
    "concat = keras.layers.concatenate([input_, hidden2])\n",
    "output = keras.layers.Dense(1)(concat)\n",
    "model = keras.models.Model(inputs = [input_], outputs = [output])"
   ]
  },
  {
   "cell_type": "code",
   "execution_count": 20,
   "id": "e1a33169",
   "metadata": {},
   "outputs": [
    {
     "name": "stdout",
     "output_type": "stream",
     "text": [
      "Model: \"functional_1\"\n",
      "__________________________________________________________________________________________________\n",
      "Layer (type)                    Output Shape         Param #     Connected to                     \n",
      "==================================================================================================\n",
      "input_1 (InputLayer)            [(None, 8)]          0                                            \n",
      "__________________________________________________________________________________________________\n",
      "dense (Dense)                   (None, 30)           270         input_1[0][0]                    \n",
      "__________________________________________________________________________________________________\n",
      "dense_1 (Dense)                 (None, 30)           930         dense[0][0]                      \n",
      "__________________________________________________________________________________________________\n",
      "concatenate (Concatenate)       (None, 38)           0           input_1[0][0]                    \n",
      "                                                                 dense_1[0][0]                    \n",
      "__________________________________________________________________________________________________\n",
      "dense_2 (Dense)                 (None, 1)            39          concatenate[0][0]                \n",
      "==================================================================================================\n",
      "Total params: 1,239\n",
      "Trainable params: 1,239\n",
      "Non-trainable params: 0\n",
      "__________________________________________________________________________________________________\n"
     ]
    }
   ],
   "source": [
    "model.summary()"
   ]
  },
  {
   "cell_type": "code",
   "execution_count": 21,
   "id": "de078ce6",
   "metadata": {},
   "outputs": [],
   "source": [
    "model.compile(loss = \"mean_squared_error\",\n",
    "             optimizer = keras.optimizers.SGD(lr = 1e-3),\n",
    "             metrics = ['mae'])"
   ]
  },
  {
   "cell_type": "code",
   "execution_count": 22,
   "id": "c19844a7",
   "metadata": {},
   "outputs": [
    {
     "name": "stdout",
     "output_type": "stream",
     "text": [
      "Epoch 1/40\n",
      "363/363 [==============================] - 1s 2ms/step - loss: 1.6920 - mae: 0.8893 - val_loss: 0.7316 - val_mae: 0.6088\n",
      "Epoch 2/40\n",
      "363/363 [==============================] - 1s 2ms/step - loss: 0.6836 - mae: 0.5994 - val_loss: 0.6670 - val_mae: 0.5999\n",
      "Epoch 3/40\n",
      "363/363 [==============================] - 1s 2ms/step - loss: 0.6265 - mae: 0.5775 - val_loss: 0.6248 - val_mae: 0.5768\n",
      "Epoch 4/40\n",
      "363/363 [==============================] - 1s 2ms/step - loss: 0.5877 - mae: 0.5581 - val_loss: 0.5963 - val_mae: 0.5662\n",
      "Epoch 5/40\n",
      "363/363 [==============================] - 1s 1ms/step - loss: 0.5566 - mae: 0.5421 - val_loss: 0.5699 - val_mae: 0.5521\n",
      "Epoch 6/40\n",
      "363/363 [==============================] - 0s 1ms/step - loss: 0.5312 - mae: 0.5298 - val_loss: 0.5498 - val_mae: 0.5416\n",
      "Epoch 7/40\n",
      "363/363 [==============================] - 0s 1ms/step - loss: 0.5108 - mae: 0.5186 - val_loss: 0.5336 - val_mae: 0.5350\n",
      "Epoch 8/40\n",
      "363/363 [==============================] - 0s 1ms/step - loss: 0.4952 - mae: 0.5096 - val_loss: 0.5219 - val_mae: 0.5292\n",
      "Epoch 9/40\n",
      "363/363 [==============================] - 0s 1ms/step - loss: 0.4802 - mae: 0.5025 - val_loss: 0.5099 - val_mae: 0.5216\n",
      "Epoch 10/40\n",
      "363/363 [==============================] - 0s 1ms/step - loss: 0.4685 - mae: 0.4959 - val_loss: 0.4996 - val_mae: 0.5158\n",
      "Epoch 11/40\n",
      "363/363 [==============================] - 1s 1ms/step - loss: 0.4590 - mae: 0.4897 - val_loss: 0.4957 - val_mae: 0.5174\n",
      "Epoch 12/40\n",
      "363/363 [==============================] - 1s 2ms/step - loss: 0.4502 - mae: 0.4851 - val_loss: 0.4861 - val_mae: 0.5098\n",
      "Epoch 13/40\n",
      "363/363 [==============================] - 0s 1ms/step - loss: 0.4433 - mae: 0.4811 - val_loss: 0.4822 - val_mae: 0.5098\n",
      "Epoch 14/40\n",
      "363/363 [==============================] - 0s 1ms/step - loss: 0.4363 - mae: 0.4766 - val_loss: 0.4775 - val_mae: 0.5077\n",
      "Epoch 15/40\n",
      "363/363 [==============================] - 1s 1ms/step - loss: 0.4306 - mae: 0.4736 - val_loss: 0.4720 - val_mae: 0.5028\n",
      "Epoch 16/40\n",
      "363/363 [==============================] - 1s 2ms/step - loss: 0.4253 - mae: 0.4703 - val_loss: 0.4682 - val_mae: 0.5011\n",
      "Epoch 17/40\n",
      "363/363 [==============================] - 1s 2ms/step - loss: 0.4213 - mae: 0.4676 - val_loss: 0.4646 - val_mae: 0.4971\n",
      "Epoch 18/40\n",
      "363/363 [==============================] - 1s 2ms/step - loss: 0.4168 - mae: 0.4650 - val_loss: 0.4620 - val_mae: 0.4952\n",
      "Epoch 19/40\n",
      "363/363 [==============================] - 1s 2ms/step - loss: 0.4126 - mae: 0.4616 - val_loss: 0.4599 - val_mae: 0.4941\n",
      "Epoch 20/40\n",
      "363/363 [==============================] - 0s 1ms/step - loss: 0.4096 - mae: 0.4600 - val_loss: 0.4570 - val_mae: 0.4946\n",
      "Epoch 21/40\n",
      "363/363 [==============================] - 0s 1ms/step - loss: 0.4060 - mae: 0.4573 - val_loss: 0.4557 - val_mae: 0.4952\n",
      "Epoch 22/40\n",
      "363/363 [==============================] - 0s 1ms/step - loss: 0.4029 - mae: 0.4559 - val_loss: 0.4537 - val_mae: 0.4929\n",
      "Epoch 23/40\n",
      "363/363 [==============================] - 0s 1ms/step - loss: 0.4000 - mae: 0.4542 - val_loss: 0.4493 - val_mae: 0.4846\n",
      "Epoch 24/40\n",
      "363/363 [==============================] - 0s 1ms/step - loss: 0.3972 - mae: 0.4515 - val_loss: 0.4493 - val_mae: 0.4857\n",
      "Epoch 25/40\n",
      "363/363 [==============================] - 0s 1ms/step - loss: 0.3946 - mae: 0.4502 - val_loss: 0.4459 - val_mae: 0.4844\n",
      "Epoch 26/40\n",
      "363/363 [==============================] - 0s 1ms/step - loss: 0.3925 - mae: 0.4488 - val_loss: 0.4444 - val_mae: 0.4829\n",
      "Epoch 27/40\n",
      "363/363 [==============================] - 1s 1ms/step - loss: 0.3905 - mae: 0.4472 - val_loss: 0.4428 - val_mae: 0.4819\n",
      "Epoch 28/40\n",
      "363/363 [==============================] - 0s 1ms/step - loss: 0.3885 - mae: 0.4455 - val_loss: 0.4440 - val_mae: 0.4862\n",
      "Epoch 29/40\n",
      "363/363 [==============================] - 1s 2ms/step - loss: 0.3867 - mae: 0.4448 - val_loss: 0.4417 - val_mae: 0.4836\n",
      "Epoch 30/40\n",
      "363/363 [==============================] - 0s 1ms/step - loss: 0.3848 - mae: 0.4435 - val_loss: 0.4408 - val_mae: 0.4798\n",
      "Epoch 31/40\n",
      "363/363 [==============================] - 0s 1ms/step - loss: 0.3830 - mae: 0.4420 - val_loss: 0.4398 - val_mae: 0.4785\n",
      "Epoch 32/40\n",
      "363/363 [==============================] - 0s 1ms/step - loss: 0.3816 - mae: 0.4410 - val_loss: 0.4415 - val_mae: 0.4842\n",
      "Epoch 33/40\n",
      "363/363 [==============================] - 1s 2ms/step - loss: 0.3805 - mae: 0.4408 - val_loss: 0.4378 - val_mae: 0.4794\n",
      "Epoch 34/40\n",
      "363/363 [==============================] - 1s 2ms/step - loss: 0.3787 - mae: 0.4393 - val_loss: 0.4379 - val_mae: 0.4792\n",
      "Epoch 35/40\n",
      "363/363 [==============================] - ETA: 0s - loss: 0.3791 - mae: 0.438 - 1s 2ms/step - loss: 0.3776 - mae: 0.4383 - val_loss: 0.4383 - val_mae: 0.4812\n",
      "Epoch 36/40\n",
      "363/363 [==============================] - 1s 1ms/step - loss: 0.3763 - mae: 0.4379 - val_loss: 0.4351 - val_mae: 0.4747\n",
      "Epoch 37/40\n",
      "363/363 [==============================] - 0s 1ms/step - loss: 0.3751 - mae: 0.4365 - val_loss: 0.4353 - val_mae: 0.4771\n",
      "Epoch 38/40\n",
      "363/363 [==============================] - 1s 2ms/step - loss: 0.3741 - mae: 0.4362 - val_loss: 0.4338 - val_mae: 0.4747\n",
      "Epoch 39/40\n",
      "363/363 [==============================] - 1s 2ms/step - loss: 0.3728 - mae: 0.4352 - val_loss: 0.4333 - val_mae: 0.4732\n",
      "Epoch 40/40\n",
      "363/363 [==============================] - 0s 1ms/step - loss: 0.3716 - mae: 0.4345 - val_loss: 0.4320 - val_mae: 0.4704\n"
     ]
    }
   ],
   "source": [
    "model_history = model.fit(x_train, y_train, epochs = 40, validation_data = (x_valid, y_valid))"
   ]
  },
  {
   "cell_type": "code",
   "execution_count": 23,
   "id": "5c9a482a",
   "metadata": {},
   "outputs": [
    {
     "name": "stdout",
     "output_type": "stream",
     "text": [
      "162/162 [==============================] - 0s 837us/step - loss: 0.3903 - mae: 0.4530\n"
     ]
    }
   ],
   "source": [
    "mae_test = model.evaluate(x_test, y_test)"
   ]
  },
  {
   "cell_type": "code",
   "execution_count": 24,
   "id": "13a0ef36",
   "metadata": {},
   "outputs": [
    {
     "data": {
      "text/plain": [
       "{'loss': [1.6920058727264404,\n",
       "  0.6836402416229248,\n",
       "  0.6264880895614624,\n",
       "  0.5877465605735779,\n",
       "  0.5565561056137085,\n",
       "  0.5311980843544006,\n",
       "  0.5107864141464233,\n",
       "  0.4951668083667755,\n",
       "  0.48022276163101196,\n",
       "  0.4684668779373169,\n",
       "  0.4589638411998749,\n",
       "  0.45022058486938477,\n",
       "  0.4432659149169922,\n",
       "  0.43632543087005615,\n",
       "  0.43062451481819153,\n",
       "  0.4253447949886322,\n",
       "  0.4212932586669922,\n",
       "  0.41681787371635437,\n",
       "  0.4126453399658203,\n",
       "  0.4095856547355652,\n",
       "  0.4059634804725647,\n",
       "  0.4029439389705658,\n",
       "  0.4000455141067505,\n",
       "  0.3971884548664093,\n",
       "  0.39462149143218994,\n",
       "  0.3924905061721802,\n",
       "  0.3904934823513031,\n",
       "  0.38845309615135193,\n",
       "  0.38671207427978516,\n",
       "  0.38484567403793335,\n",
       "  0.382953941822052,\n",
       "  0.38158532977104187,\n",
       "  0.3805288076400757,\n",
       "  0.3787027895450592,\n",
       "  0.3775632083415985,\n",
       "  0.3763015866279602,\n",
       "  0.37508344650268555,\n",
       "  0.37408941984176636,\n",
       "  0.37281855940818787,\n",
       "  0.37164586782455444],\n",
       " 'mae': [0.8892966508865356,\n",
       "  0.5993583798408508,\n",
       "  0.577479362487793,\n",
       "  0.558142364025116,\n",
       "  0.5421335697174072,\n",
       "  0.5297517776489258,\n",
       "  0.518592119216919,\n",
       "  0.5096290707588196,\n",
       "  0.5025359392166138,\n",
       "  0.49592795968055725,\n",
       "  0.48969605565071106,\n",
       "  0.48507028818130493,\n",
       "  0.48114877939224243,\n",
       "  0.4765703082084656,\n",
       "  0.47358450293540955,\n",
       "  0.4702606499195099,\n",
       "  0.4675999581813812,\n",
       "  0.4649639427661896,\n",
       "  0.46159064769744873,\n",
       "  0.46004417538642883,\n",
       "  0.45733100175857544,\n",
       "  0.4559226632118225,\n",
       "  0.45419758558273315,\n",
       "  0.45146194100379944,\n",
       "  0.4502381384372711,\n",
       "  0.4487719237804413,\n",
       "  0.4472378194332123,\n",
       "  0.4455063045024872,\n",
       "  0.4448150098323822,\n",
       "  0.44350168108940125,\n",
       "  0.44200778007507324,\n",
       "  0.44095417857170105,\n",
       "  0.44078654050827026,\n",
       "  0.43926259875297546,\n",
       "  0.4382910430431366,\n",
       "  0.43786677718162537,\n",
       "  0.43653440475463867,\n",
       "  0.436222642660141,\n",
       "  0.43521827459335327,\n",
       "  0.43448641896247864],\n",
       " 'val_loss': [0.7316025495529175,\n",
       "  0.6670111417770386,\n",
       "  0.6248146295547485,\n",
       "  0.5962962508201599,\n",
       "  0.5698727965354919,\n",
       "  0.5497602224349976,\n",
       "  0.5335991382598877,\n",
       "  0.5219138264656067,\n",
       "  0.5099008083343506,\n",
       "  0.4995543360710144,\n",
       "  0.49573931097984314,\n",
       "  0.48611998558044434,\n",
       "  0.48217397928237915,\n",
       "  0.4775140881538391,\n",
       "  0.4720180630683899,\n",
       "  0.4681846499443054,\n",
       "  0.46458470821380615,\n",
       "  0.4620443880558014,\n",
       "  0.45992156863212585,\n",
       "  0.4570346772670746,\n",
       "  0.4557354748249054,\n",
       "  0.4536657929420471,\n",
       "  0.449256032705307,\n",
       "  0.44934120774269104,\n",
       "  0.44594135880470276,\n",
       "  0.4443744421005249,\n",
       "  0.4427855908870697,\n",
       "  0.4440176784992218,\n",
       "  0.4416653513908386,\n",
       "  0.4407878816127777,\n",
       "  0.43978580832481384,\n",
       "  0.4414636492729187,\n",
       "  0.43782180547714233,\n",
       "  0.4378967881202698,\n",
       "  0.4383201003074646,\n",
       "  0.43512821197509766,\n",
       "  0.43533509969711304,\n",
       "  0.4338122010231018,\n",
       "  0.4332648813724518,\n",
       "  0.4319585859775543],\n",
       " 'val_mae': [0.6088433265686035,\n",
       "  0.5999233722686768,\n",
       "  0.5767661929130554,\n",
       "  0.56622713804245,\n",
       "  0.5520627498626709,\n",
       "  0.5416089296340942,\n",
       "  0.534995973110199,\n",
       "  0.5292076468467712,\n",
       "  0.5216110944747925,\n",
       "  0.5158283114433289,\n",
       "  0.5174280405044556,\n",
       "  0.5098354816436768,\n",
       "  0.5098163485527039,\n",
       "  0.5077100992202759,\n",
       "  0.5028353333473206,\n",
       "  0.5010977983474731,\n",
       "  0.4971245229244232,\n",
       "  0.49523839354515076,\n",
       "  0.49412208795547485,\n",
       "  0.4945865869522095,\n",
       "  0.49523821473121643,\n",
       "  0.49294376373291016,\n",
       "  0.48455527424812317,\n",
       "  0.48572978377342224,\n",
       "  0.4844461679458618,\n",
       "  0.4828890860080719,\n",
       "  0.4818855822086334,\n",
       "  0.4861702024936676,\n",
       "  0.48355579376220703,\n",
       "  0.4797740876674652,\n",
       "  0.47854068875312805,\n",
       "  0.4842298626899719,\n",
       "  0.4793662428855896,\n",
       "  0.47923514246940613,\n",
       "  0.4811702370643616,\n",
       "  0.4746771454811096,\n",
       "  0.47706031799316406,\n",
       "  0.4747176468372345,\n",
       "  0.47315260767936707,\n",
       "  0.4704083204269409]}"
      ]
     },
     "execution_count": 24,
     "metadata": {},
     "output_type": "execute_result"
    }
   ],
   "source": [
    "model_history.history"
   ]
  },
  {
   "cell_type": "code",
   "execution_count": 25,
   "id": "b04015ea",
   "metadata": {},
   "outputs": [
    {
     "data": {
      "image/png": "[encoded data removed]",
      "text/plain": [
       "<Figure size 576x360 with 1 Axes>"
      ]
     },
     "metadata": {
      "needs_background": "light"
     },
     "output_type": "display_data"
    }
   ],
   "source": [
    "pd.DataFrame(model_history.history).plot(figsize = (8, 5))\n",
    "plt.grid(True)\n",
    "plt.gca().set_ylim(0, 1)\n",
    "plt.show()"
   ]
  },
  {
   "cell_type": "markdown",
   "id": "b4583203",
   "metadata": {},
   "source": [
    "# Saving and restoring"
   ]
  },
  {
   "cell_type": "code",
   "execution_count": 28,
   "id": "76e35c41",
   "metadata": {},
   "outputs": [],
   "source": [
    "model.save(\"natho_model.h5\")"
   ]
  },
  {
   "cell_type": "code",
   "execution_count": 29,
   "id": "95245dad",
   "metadata": {},
   "outputs": [
    {
     "data": {
      "text/plain": [
       "'C:\\\\Users\\\\USER'"
      ]
     },
     "execution_count": 29,
     "metadata": {},
     "output_type": "execute_result"
    }
   ],
   "source": [
    "%pwd"
   ]
  },
  {
   "cell_type": "code",
   "execution_count": 30,
   "id": "96c0a408",
   "metadata": {},
   "outputs": [],
   "source": [
    "del model"
   ]
  },
  {
   "cell_type": "code",
   "execution_count": 31,
   "id": "d4c14e11",
   "metadata": {},
   "outputs": [],
   "source": [
    "keras.backend.clear_session()"
   ]
  },
  {
   "cell_type": "code",
   "execution_count": 32,
   "id": "6bc24db4",
   "metadata": {},
   "outputs": [],
   "source": [
    "model = keras.models.load_model(\"natho_model.h5\")"
   ]
  },
  {
   "cell_type": "code",
   "execution_count": 33,
   "id": "bec0a68c",
   "metadata": {},
   "outputs": [
    {
     "name": "stdout",
     "output_type": "stream",
     "text": [
      "Model: \"functional_1\"\n",
      "__________________________________________________________________________________________________\n",
      "Layer (type)                    Output Shape         Param #     Connected to                     \n",
      "==================================================================================================\n",
      "input_1 (InputLayer)            [(None, 8)]          0                                            \n",
      "__________________________________________________________________________________________________\n",
      "dense (Dense)                   (None, 30)           270         input_1[0][0]                    \n",
      "__________________________________________________________________________________________________\n",
      "dense_1 (Dense)                 (None, 30)           930         dense[0][0]                      \n",
      "__________________________________________________________________________________________________\n",
      "concatenate (Concatenate)       (None, 38)           0           input_1[0][0]                    \n",
      "                                                                 dense_1[0][0]                    \n",
      "__________________________________________________________________________________________________\n",
      "dense_2 (Dense)                 (None, 1)            39          concatenate[0][0]                \n",
      "==================================================================================================\n",
      "Total params: 1,239\n",
      "Trainable params: 1,239\n",
      "Non-trainable params: 0\n",
      "__________________________________________________________________________________________________\n"
     ]
    }
   ],
   "source": [
    "model.summary()"
   ]
  },
  {
   "cell_type": "code",
   "execution_count": 35,
   "id": "f190580b",
   "metadata": {},
   "outputs": [
    {
     "ename": "NameError",
     "evalue": "name 'x_new' is not defined",
     "output_type": "error",
     "traceback": [
      "\u001b[1;31m---------------------------------------------------------------------------\u001b[0m",
      "\u001b[1;31mNameError\u001b[0m                                 Traceback (most recent call last)",
      "Input \u001b[1;32mIn [35]\u001b[0m, in \u001b[0;36m<cell line: 1>\u001b[1;34m()\u001b[0m\n\u001b[1;32m----> 1\u001b[0m y_pred \u001b[38;5;241m=\u001b[39m model\u001b[38;5;241m.\u001b[39mpredict(\u001b[43mx_new\u001b[49m)\n\u001b[0;32m      2\u001b[0m \u001b[38;5;28mprint\u001b[39m(y_pred)\n",
      "\u001b[1;31mNameError\u001b[0m: name 'x_new' is not defined"
     ]
    }
   ],
   "source": [
    "y_pred = model.predict(x_new)\n",
    "print(y_pred)"
   ]
  },
  {
   "cell_type": "markdown",
   "id": "45dd4b88",
   "metadata": {},
   "source": [
    "# Using Callbacks During Training"
   ]
  },
  {
   "cell_type": "code",
   "execution_count": 36,
   "id": "dbe83b71",
   "metadata": {},
   "outputs": [],
   "source": [
    "keras.backend.clear_session()\n",
    "np.random.seed(42)\n",
    "tf.random.set_seed(42)"
   ]
  },
  {
   "cell_type": "code",
   "execution_count": 37,
   "id": "0a0655b7",
   "metadata": {},
   "outputs": [],
   "source": [
    "model = keras.models.Sequential([\n",
    "    keras.layers.Dense(30, activation = \"relu\", input_shape = [8]),\n",
    "    keras.layers.Dense(30, activation = \"relu\"),\n",
    "    keras.layers.Dense(1)\n",
    "])"
   ]
  },
  {
   "cell_type": "code",
   "execution_count": 38,
   "id": "022aa364",
   "metadata": {},
   "outputs": [],
   "source": [
    "model.compile(loss = \"mse\", optimizer = keras.optimizers.SGD(lr = 1e-3))"
   ]
  },
  {
   "cell_type": "code",
   "execution_count": 39,
   "id": "c198b8e7",
   "metadata": {},
   "outputs": [],
   "source": [
    "checkpoint_cb = keras.callbacks.ModelCheckpoint(\"Model-{epoch:02d}.h5\")"
   ]
  },
  {
   "cell_type": "code",
   "execution_count": 40,
   "id": "77c6bf39",
   "metadata": {},
   "outputs": [
    {
     "name": "stdout",
     "output_type": "stream",
     "text": [
      "Epoch 1/10\n",
      "363/363 [==============================] - 1s 2ms/step - loss: 1.8866 - val_loss: 0.7414\n",
      "Epoch 2/10\n",
      "363/363 [==============================] - 1s 2ms/step - loss: 0.6577 - val_loss: 0.6221\n",
      "Epoch 3/10\n",
      "363/363 [==============================] - 1s 2ms/step - loss: 0.5934 - val_loss: 0.5779\n",
      "Epoch 4/10\n",
      "363/363 [==============================] - 1s 2ms/step - loss: 0.5557 - val_loss: 0.5572\n",
      "Epoch 5/10\n",
      "363/363 [==============================] - 1s 1ms/step - loss: 0.5272 - val_loss: 0.5305\n",
      "Epoch 6/10\n",
      "363/363 [==============================] - 1s 2ms/step - loss: 0.5033 - val_loss: 0.5113\n",
      "Epoch 7/10\n",
      "363/363 [==============================] - 1s 1ms/step - loss: 0.4854 - val_loss: 0.4974\n",
      "Epoch 8/10\n",
      "363/363 [==============================] - 1s 2ms/step - loss: 0.4709 - val_loss: 0.4903\n",
      "Epoch 9/10\n",
      "363/363 [==============================] - 1s 1ms/step - loss: 0.4578 - val_loss: 0.4773\n",
      "Epoch 10/10\n",
      "363/363 [==============================] - 1s 2ms/step - loss: 0.4474 - val_loss: 0.4696\n"
     ]
    }
   ],
   "source": [
    "history = model.fit(x_train, y_train, epochs = 10, \n",
    "                   validation_data = (x_valid, y_valid),\n",
    "                   callbacks = [checkpoint_cb])"
   ]
  },
  {
   "cell_type": "code",
   "execution_count": 41,
   "id": "d1930c20",
   "metadata": {},
   "outputs": [],
   "source": [
    "del model\n",
    "keras.backend.clear_session()"
   ]
  },
  {
   "cell_type": "code",
   "execution_count": 42,
   "id": "48081af0",
   "metadata": {},
   "outputs": [],
   "source": [
    "model = keras.models.load_model(\"Model-10.h5\")"
   ]
  },
  {
   "cell_type": "code",
   "execution_count": 43,
   "id": "74b26d8d",
   "metadata": {},
   "outputs": [
    {
     "name": "stdout",
     "output_type": "stream",
     "text": [
      "162/162 [==============================] - 0s 849us/step - loss: 0.4356\n"
     ]
    }
   ],
   "source": [
    "mse_test = model.evaluate(x_test, y_test)"
   ]
  },
  {
   "cell_type": "markdown",
   "id": "32257467",
   "metadata": {},
   "source": [
    "# Best Model Only"
   ]
  },
  {
   "cell_type": "code",
   "execution_count": 44,
   "id": "d145c025",
   "metadata": {},
   "outputs": [],
   "source": [
    "del model\n",
    "keras.backend.clear_session()"
   ]
  },
  {
   "cell_type": "code",
   "execution_count": 45,
   "id": "70e2db71",
   "metadata": {},
   "outputs": [],
   "source": [
    "model = keras.models.Sequential([\n",
    "    keras.layers.Dense(30, activation = \"relu\", input_shape = [8]),\n",
    "    keras.layers.Dense(30, activation = \"relu\"),\n",
    "    keras.layers.Dense(1)\n",
    "])"
   ]
  },
  {
   "cell_type": "code",
   "execution_count": 46,
   "id": "b8e3c0b5",
   "metadata": {},
   "outputs": [],
   "source": [
    "model.compile(loss = \"mse\", optimizer = keras.optimizers.SGD(lr = 1e-3))"
   ]
  },
  {
   "cell_type": "code",
   "execution_count": 47,
   "id": "188a4d8b",
   "metadata": {},
   "outputs": [],
   "source": [
    "checkpoint_cb = keras.callbacks.ModelCheckpoint(\"best_model.h5\", save_best_only = True)"
   ]
  },
  {
   "cell_type": "code",
   "execution_count": 48,
   "id": "a78ac6cc",
   "metadata": {},
   "outputs": [
    {
     "name": "stdout",
     "output_type": "stream",
     "text": [
      "Epoch 1/10\n",
      "363/363 [==============================] - 1s 2ms/step - loss: 1.4581 - val_loss: 0.8261\n",
      "Epoch 2/10\n",
      "363/363 [==============================] - 1s 2ms/step - loss: 0.7368 - val_loss: 0.6971\n",
      "Epoch 3/10\n",
      "363/363 [==============================] - 1s 2ms/step - loss: 0.6516 - val_loss: 0.6317\n",
      "Epoch 4/10\n",
      "363/363 [==============================] - 0s 1ms/step - loss: 0.5951 - val_loss: 0.5943\n",
      "Epoch 5/10\n",
      "363/363 [==============================] - 1s 1ms/step - loss: 0.5536 - val_loss: 0.5578\n",
      "Epoch 6/10\n",
      "363/363 [==============================] - 0s 1ms/step - loss: 0.5199 - val_loss: 0.5338\n",
      "Epoch 7/10\n",
      "363/363 [==============================] - 1s 1ms/step - loss: 0.4940 - val_loss: 0.5146\n",
      "Epoch 8/10\n",
      "363/363 [==============================] - 0s 1ms/step - loss: 0.4730 - val_loss: 0.4992\n",
      "Epoch 9/10\n",
      "363/363 [==============================] - 0s 1ms/step - loss: 0.4563 - val_loss: 0.4867\n",
      "Epoch 10/10\n",
      "363/363 [==============================] - 1s 2ms/step - loss: 0.4431 - val_loss: 0.4755\n"
     ]
    }
   ],
   "source": [
    "history = model.fit(x_train, y_train, epochs = 10, \n",
    "                   validation_data = (x_valid, y_valid),\n",
    "                   callbacks = [checkpoint_cb])"
   ]
  },
  {
   "cell_type": "code",
   "execution_count": 49,
   "id": "271dc588",
   "metadata": {},
   "outputs": [
    {
     "name": "stdout",
     "output_type": "stream",
     "text": [
      "162/162 [==============================] - 0s 1ms/step - loss: 0.4305\n"
     ]
    }
   ],
   "source": [
    "model = keras.models.load_model(\"best_model.h5\") #rollback to the best model\n",
    "mse_test = model.evaluate(x_test, y_test)"
   ]
  },
  {
   "cell_type": "markdown",
   "id": "33eb6dfd",
   "metadata": {},
   "source": [
    "# Best Model Only2"
   ]
  },
  {
   "cell_type": "code",
   "execution_count": 50,
   "id": "8e36ac91",
   "metadata": {},
   "outputs": [],
   "source": [
    "del model\n",
    "keras.backend.clear_session()"
   ]
  },
  {
   "cell_type": "code",
   "execution_count": 51,
   "id": "d0b13b3c",
   "metadata": {},
   "outputs": [],
   "source": [
    "model = keras.models.Sequential([\n",
    "    keras.layers.Dense(30, activation = \"relu\", input_shape = [8]),\n",
    "    keras.layers.Dense(30, activation = \"relu\"),\n",
    "    keras.layers.Dense(1)\n",
    "])"
   ]
  },
  {
   "cell_type": "code",
   "execution_count": 52,
   "id": "93020f8d",
   "metadata": {},
   "outputs": [],
   "source": [
    "model.compile(loss = \"mse\", optimizer = keras.optimizers.SGD(lr = 1e-3))"
   ]
  },
  {
   "cell_type": "code",
   "execution_count": 53,
   "id": "1b455f99",
   "metadata": {},
   "outputs": [],
   "source": [
    "checkpoint_cb = keras.callbacks.ModelCheckpoint(\"early_stop_model.h5\", save_best_only = True)"
   ]
  },
  {
   "cell_type": "code",
   "execution_count": 54,
   "id": "3fcf3297",
   "metadata": {},
   "outputs": [],
   "source": [
    "early_stopping_cb = keras.callbacks.EarlyStopping(patience = 10,\n",
    "                                                restore_best_weights = True)\n",
    "#   Patience: number of epochs with no improvement afte which training will be stopped"
   ]
  },
  {
   "cell_type": "code",
   "execution_count": 55,
   "id": "9116005a",
   "metadata": {},
   "outputs": [
    {
     "name": "stdout",
     "output_type": "stream",
     "text": [
      "Epoch 1/200\n",
      "  1/363 [..............................] - ETA: 0s - loss: 6.0614WARNING:tensorflow:Callbacks method `on_train_batch_end` is slow compared to the batch time (batch time: 0.0000s vs `on_train_batch_end` time: 0.0100s). Check your callbacks.\n",
      "363/363 [==============================] - 1s 2ms/step - loss: 2.5780 - val_loss: 1.2794\n",
      "Epoch 2/200\n",
      "363/363 [==============================] - 1s 2ms/step - loss: 1.0896 - val_loss: 0.8613\n",
      "Epoch 3/200\n",
      "363/363 [==============================] - 0s 1ms/step - loss: 0.8430 - val_loss: 0.7575\n",
      "Epoch 4/200\n",
      "363/363 [==============================] - 1s 1ms/step - loss: 0.7673 - val_loss: 0.7150\n",
      "Epoch 5/200\n",
      "363/363 [==============================] - 1s 2ms/step - loss: 0.7194 - val_loss: 0.6788\n",
      "Epoch 6/200\n",
      "363/363 [==============================] - 1s 2ms/step - loss: 0.6799 - val_loss: 0.6515\n",
      "Epoch 7/200\n",
      "363/363 [==============================] - 1s 1ms/step - loss: 0.6466 - val_loss: 0.6262\n",
      "Epoch 8/200\n",
      "363/363 [==============================] - 1s 2ms/step - loss: 0.6173 - val_loss: 0.6022\n",
      "Epoch 9/200\n",
      "363/363 [==============================] - 1s 2ms/step - loss: 0.5894 - val_loss: 0.5817\n",
      "Epoch 10/200\n",
      "363/363 [==============================] - 1s 2ms/step - loss: 0.5645 - val_loss: 0.5613\n",
      "Epoch 11/200\n",
      "363/363 [==============================] - 1s 1ms/step - loss: 0.5428 - val_loss: 0.5481\n",
      "Epoch 12/200\n",
      "363/363 [==============================] - 1s 2ms/step - loss: 0.5212 - val_loss: 0.5283\n",
      "Epoch 13/200\n",
      "363/363 [==============================] - 1s 2ms/step - loss: 0.5034 - val_loss: 0.5157\n",
      "Epoch 14/200\n",
      "363/363 [==============================] - 1s 2ms/step - loss: 0.4866 - val_loss: 0.5041\n",
      "Epoch 15/200\n",
      "363/363 [==============================] - 1s 1ms/step - loss: 0.4721 - val_loss: 0.4922\n",
      "Epoch 16/200\n",
      "363/363 [==============================] - 1s 2ms/step - loss: 0.4594 - val_loss: 0.4836\n",
      "Epoch 17/200\n",
      "363/363 [==============================] - 1s 1ms/step - loss: 0.4489 - val_loss: 0.4753\n",
      "Epoch 18/200\n",
      "363/363 [==============================] - 1s 2ms/step - loss: 0.4396 - val_loss: 0.4690\n",
      "Epoch 19/200\n",
      "363/363 [==============================] - 1s 2ms/step - loss: 0.4315 - val_loss: 0.4635\n",
      "Epoch 20/200\n",
      "363/363 [==============================] - 1s 1ms/step - loss: 0.4252 - val_loss: 0.4600\n",
      "Epoch 21/200\n",
      "363/363 [==============================] - 1s 2ms/step - loss: 0.4190 - val_loss: 0.4567\n",
      "Epoch 22/200\n",
      "363/363 [==============================] - 1s 2ms/step - loss: 0.4140 - val_loss: 0.4535\n",
      "Epoch 23/200\n",
      "363/363 [==============================] - 1s 2ms/step - loss: 0.4094 - val_loss: 0.4471\n",
      "Epoch 24/200\n",
      "363/363 [==============================] - 1s 2ms/step - loss: 0.4052 - val_loss: 0.4460\n",
      "Epoch 25/200\n",
      "363/363 [==============================] - 1s 2ms/step - loss: 0.4014 - val_loss: 0.4420\n",
      "Epoch 26/200\n",
      "363/363 [==============================] - 1s 2ms/step - loss: 0.3981 - val_loss: 0.4402\n",
      "Epoch 27/200\n",
      "363/363 [==============================] - 0s 1ms/step - loss: 0.3950 - val_loss: 0.4368\n",
      "Epoch 28/200\n",
      "363/363 [==============================] - 1s 1ms/step - loss: 0.3920 - val_loss: 0.4383\n",
      "Epoch 29/200\n",
      "363/363 [==============================] - 0s 1ms/step - loss: 0.3895 - val_loss: 0.4351\n",
      "Epoch 30/200\n",
      "363/363 [==============================] - 0s 1ms/step - loss: 0.3867 - val_loss: 0.4333\n",
      "Epoch 31/200\n",
      "363/363 [==============================] - 0s 1ms/step - loss: 0.3843 - val_loss: 0.4315\n",
      "Epoch 32/200\n",
      "363/363 [==============================] - 0s 1ms/step - loss: 0.3819 - val_loss: 0.4343\n",
      "Epoch 33/200\n",
      "363/363 [==============================] - 1s 1ms/step - loss: 0.3805 - val_loss: 0.4290\n",
      "Epoch 34/200\n",
      "363/363 [==============================] - 1s 1ms/step - loss: 0.3781 - val_loss: 0.4279\n",
      "Epoch 35/200\n",
      "363/363 [==============================] - 1s 1ms/step - loss: 0.3762 - val_loss: 0.4294\n",
      "Epoch 36/200\n",
      "363/363 [==============================] - 1s 1ms/step - loss: 0.3745 - val_loss: 0.4244\n",
      "Epoch 37/200\n",
      "363/363 [==============================] - 0s 1ms/step - loss: 0.3729 - val_loss: 0.4262\n",
      "Epoch 38/200\n",
      "363/363 [==============================] - 0s 1ms/step - loss: 0.3715 - val_loss: 0.4232\n",
      "Epoch 39/200\n",
      "363/363 [==============================] - 1s 1ms/step - loss: 0.3696 - val_loss: 0.4224\n",
      "Epoch 40/200\n",
      "363/363 [==============================] - 1s 1ms/step - loss: 0.3680 - val_loss: 0.4200\n",
      "Epoch 41/200\n",
      "363/363 [==============================] - 1s 1ms/step - loss: 0.3668 - val_loss: 0.4206\n",
      "Epoch 42/200\n",
      "363/363 [==============================] - 0s 1ms/step - loss: 0.3657 - val_loss: 0.4206\n",
      "Epoch 43/200\n",
      "363/363 [==============================] - 0s 1ms/step - loss: 0.3641 - val_loss: 0.4201\n",
      "Epoch 44/200\n",
      "363/363 [==============================] - 0s 1ms/step - loss: 0.3628 - val_loss: 0.4211\n",
      "Epoch 45/200\n",
      "363/363 [==============================] - 1s 1ms/step - loss: 0.3620 - val_loss: 0.4173\n",
      "Epoch 46/200\n",
      "363/363 [==============================] - 0s 1ms/step - loss: 0.3605 - val_loss: 0.4179\n",
      "Epoch 47/200\n",
      "363/363 [==============================] - 0s 1ms/step - loss: 0.3595 - val_loss: 0.4164\n",
      "Epoch 48/200\n",
      "363/363 [==============================] - 0s 1ms/step - loss: 0.3584 - val_loss: 0.4167\n",
      "Epoch 49/200\n",
      "363/363 [==============================] - 1s 1ms/step - loss: 0.3578 - val_loss: 0.4152\n",
      "Epoch 50/200\n",
      "363/363 [==============================] - 0s 1ms/step - loss: 0.3565 - val_loss: 0.4159\n",
      "Epoch 51/200\n",
      "363/363 [==============================] - 0s 1ms/step - loss: 0.3553 - val_loss: 0.4169\n",
      "Epoch 52/200\n",
      "363/363 [==============================] - 1s 2ms/step - loss: 0.3548 - val_loss: 0.4144\n",
      "Epoch 53/200\n",
      "363/363 [==============================] - 0s 1ms/step - loss: 0.3538 - val_loss: 0.4167\n",
      "Epoch 54/200\n",
      "363/363 [==============================] - 1s 2ms/step - loss: 0.3531 - val_loss: 0.4128\n",
      "Epoch 55/200\n",
      "363/363 [==============================] - 1s 2ms/step - loss: 0.3522 - val_loss: 0.4130\n",
      "Epoch 56/200\n",
      "363/363 [==============================] - 1s 2ms/step - loss: 0.3513 - val_loss: 0.4134\n",
      "Epoch 57/200\n",
      "363/363 [==============================] - 1s 2ms/step - loss: 0.3505 - val_loss: 0.4126\n",
      "Epoch 58/200\n",
      "363/363 [==============================] - 0s 1ms/step - loss: 0.3495 - val_loss: 0.4146\n",
      "Epoch 59/200\n",
      "363/363 [==============================] - 0s 1ms/step - loss: 0.3491 - val_loss: 0.4128\n",
      "Epoch 60/200\n",
      "363/363 [==============================] - 1s 2ms/step - loss: 0.3483 - val_loss: 0.4125\n",
      "Epoch 61/200\n",
      "363/363 [==============================] - 0s 1ms/step - loss: 0.3471 - val_loss: 0.4139\n",
      "Epoch 62/200\n",
      "363/363 [==============================] - 1s 2ms/step - loss: 0.3467 - val_loss: 0.4112\n",
      "Epoch 63/200\n",
      "363/363 [==============================] - 0s 1ms/step - loss: 0.3456 - val_loss: 0.4149\n",
      "Epoch 64/200\n",
      "363/363 [==============================] - 1s 2ms/step - loss: 0.3454 - val_loss: 0.4103\n",
      "Epoch 65/200\n",
      "363/363 [==============================] - 1s 1ms/step - loss: 0.3446 - val_loss: 0.4102\n",
      "Epoch 66/200\n",
      "363/363 [==============================] - 0s 1ms/step - loss: 0.3439 - val_loss: 0.4119\n",
      "Epoch 67/200\n",
      "363/363 [==============================] - 0s 1ms/step - loss: 0.3430 - val_loss: 0.4105\n",
      "Epoch 68/200\n",
      "363/363 [==============================] - 0s 1ms/step - loss: 0.3426 - val_loss: 0.4109\n",
      "Epoch 69/200\n",
      "363/363 [==============================] - ETA: 0s - loss: 0.341 - 1s 2ms/step - loss: 0.3421 - val_loss: 0.4111\n",
      "Epoch 70/200\n",
      "363/363 [==============================] - 0s 1ms/step - loss: 0.3411 - val_loss: 0.4103\n",
      "Epoch 71/200\n",
      "363/363 [==============================] - 1s 1ms/step - loss: 0.3407 - val_loss: 0.4116\n",
      "Epoch 72/200\n",
      "363/363 [==============================] - 0s 1ms/step - loss: 0.3401 - val_loss: 0.4104\n",
      "Epoch 73/200\n",
      "363/363 [==============================] - 0s 1ms/step - loss: 0.3393 - val_loss: 0.4091\n",
      "Epoch 74/200\n",
      "363/363 [==============================] - 1s 1ms/step - loss: 0.3392 - val_loss: 0.4099\n",
      "Epoch 75/200\n",
      "363/363 [==============================] - 1s 2ms/step - loss: 0.3386 - val_loss: 0.4136\n",
      "Epoch 76/200\n",
      "363/363 [==============================] - 0s 1ms/step - loss: 0.3383 - val_loss: 0.4099\n",
      "Epoch 77/200\n",
      "363/363 [==============================] - 0s 1ms/step - loss: 0.3373 - val_loss: 0.4112\n",
      "Epoch 78/200\n",
      "363/363 [==============================] - 0s 1ms/step - loss: 0.3372 - val_loss: 0.4114\n"
     ]
    },
    {
     "name": "stdout",
     "output_type": "stream",
     "text": [
      "Epoch 79/200\n",
      "363/363 [==============================] - 0s 1ms/step - loss: 0.3367 - val_loss: 0.4116\n",
      "Epoch 80/200\n",
      "363/363 [==============================] - 1s 2ms/step - loss: 0.3364 - val_loss: 0.4087\n",
      "Epoch 81/200\n",
      "363/363 [==============================] - 0s 1ms/step - loss: 0.3358 - val_loss: 0.4083\n",
      "Epoch 82/200\n",
      "363/363 [==============================] - 0s 1ms/step - loss: 0.3355 - val_loss: 0.4071\n",
      "Epoch 83/200\n",
      "363/363 [==============================] - 1s 2ms/step - loss: 0.3352 - val_loss: 0.4079\n",
      "Epoch 84/200\n",
      "363/363 [==============================] - 1s 2ms/step - loss: 0.3346 - val_loss: 0.4087\n",
      "Epoch 85/200\n",
      "363/363 [==============================] - 1s 2ms/step - loss: 0.3343 - val_loss: 0.4105\n",
      "Epoch 86/200\n",
      "363/363 [==============================] - 1s 2ms/step - loss: 0.3341 - val_loss: 0.4076\n",
      "Epoch 87/200\n",
      "363/363 [==============================] - 1s 2ms/step - loss: 0.3336 - val_loss: 0.4092\n",
      "Epoch 88/200\n",
      "363/363 [==============================] - 0s 1ms/step - loss: 0.3331 - val_loss: 0.4074\n",
      "Epoch 89/200\n",
      "363/363 [==============================] - 0s 1ms/step - loss: 0.3328 - val_loss: 0.4098\n",
      "Epoch 90/200\n",
      "363/363 [==============================] - 0s 1ms/step - loss: 0.3326 - val_loss: 0.4101\n",
      "Epoch 91/200\n",
      "363/363 [==============================] - 0s 1ms/step - loss: 0.3323 - val_loss: 0.4098\n",
      "Epoch 92/200\n",
      "363/363 [==============================] - 0s 1ms/step - loss: 0.3318 - val_loss: 0.4095\n"
     ]
    }
   ],
   "source": [
    "history = model.fit(x_train, y_train, epochs = 200, \n",
    "                   validation_data = (x_valid, y_valid),\n",
    "                   callbacks = [checkpoint_cb,early_stopping_cb])"
   ]
  },
  {
   "cell_type": "code",
   "execution_count": 56,
   "id": "dcf62b39",
   "metadata": {},
   "outputs": [
    {
     "name": "stdout",
     "output_type": "stream",
     "text": [
      "162/162 [==============================] - 0s 1ms/step - loss: 0.3676\n"
     ]
    }
   ],
   "source": [
    "model = keras.models.load_model(\"early_stop_model.h5\")\n",
    "mse_test = model.evaluate(x_test, y_test)"
   ]
  },
  {
   "cell_type": "code",
   "execution_count": null,
   "id": "1404cfd0",
   "metadata": {},
   "outputs": [],
   "source": []
  },
  {
   "cell_type": "code",
   "execution_count": null,
   "id": "1fe28c07",
   "metadata": {},
   "outputs": [],
   "source": []
  },
  {
   "cell_type": "code",
   "execution_count": null,
   "id": "f6ea6bb5",
   "metadata": {},
   "outputs": [],
   "source": []
  }
 ],
 "metadata": {
  "kernelspec": {
   "display_name": "Python 3 (ipykernel)",
   "language": "python",
   "name": "python3"
  },
  "language_info": {
   "codemirror_mode": {
    "name": "ipython",
    "version": 3
   },
   "file_extension": ".py",
   "mimetype": "text/x-python",
   "name": "python",
   "nbconvert_exporter": "python",
   "pygments_lexer": "ipython3",
   "version": "3.9.13"
  }
 },
 "nbformat": 4,
 "nbformat_minor": 5
}
